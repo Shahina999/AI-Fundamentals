{
 "cells": [
  {
   "cell_type": "code",
   "execution_count": 14,
   "id": "91b6c8b5-3b47-4bd8-9032-637ac4a65c48",
   "metadata": {},
   "outputs": [
    {
     "name": "stdout",
     "output_type": "stream",
     "text": [
      "Gimi\n",
      "Haskey\n",
      "3\n"
     ]
    }
   ],
   "source": [
    "# PBJECT ORIENTED PROGRAMING...OOP\n",
    "\n",
    " #object\n",
    " #function\n",
    " #classes\n",
    "# how to define class\n",
    "\n",
    "\n",
    "class Dog:\n",
    "    def __init__(self,name,breed,age): #constructor\n",
    "        self.name=name  #these are public\n",
    "        self.breed=breed\n",
    "        self.age=age\n",
    "    def show_name(self):\n",
    "        print(obj.name)\n",
    "    def show_breed(self): \n",
    "        print(obj.breed)\n",
    "    def show_age(self):\n",
    "        print(obj.age) \n",
    "\n",
    "obj = Dog( \"Gimi\",\"Haskey\",3)\n",
    "obj.show_name()\n",
    "obj.show_breed()\n",
    "obj.show_age()\n",
    "\n",
    "        \n",
    "\n",
    "\n"
   ]
  },
  {
   "cell_type": "code",
   "execution_count": null,
   "id": "6a05d36f-b19f-4ed3-a777-08ec7d7a1e67",
   "metadata": {},
   "outputs": [],
   "source": [
    "    "
   ]
  },
  {
   "cell_type": "code",
   "execution_count": null,
   "id": "96f68dbe-6c9f-4eae-a5b9-2dea7001de9b",
   "metadata": {},
   "outputs": [],
   "source": []
  }
 ],
 "metadata": {
  "kernelspec": {
   "display_name": "Python 3 (ipykernel)",
   "language": "python",
   "name": "python3"
  },
  "language_info": {
   "codemirror_mode": {
    "name": "ipython",
    "version": 3
   },
   "file_extension": ".py",
   "mimetype": "text/x-python",
   "name": "python",
   "nbconvert_exporter": "python",
   "pygments_lexer": "ipython3",
   "version": "3.12.4"
  }
 },
 "nbformat": 4,
 "nbformat_minor": 5
}
