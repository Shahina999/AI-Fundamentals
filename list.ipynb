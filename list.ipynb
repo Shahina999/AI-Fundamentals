{
 "cells": [
  {
   "cell_type": "code",
   "execution_count": 7,
   "id": "df04df13-a931-4a2d-a6fe-c1cb1da71970",
   "metadata": {},
   "outputs": [
    {
     "name": "stdin",
     "output_type": "stream",
     "text": [
      "input a char a\n",
      "input a char a\n",
      "input a char b\n",
      "input a strng g\n",
      "input a string t\n",
      "input a cahr r\n"
     ]
    },
    {
     "name": "stdout",
     "output_type": "stream",
     "text": [
      "['a', 'a', 'b', 'g', 't', 'r']\n"
     ]
    }
   ],
   "source": [
    " A = []\n",
    "value1 = input(\"input a char\")\n",
    "value2 = input(\"input a char\")\n",
    "value3 = input(\"input a char\")\n",
    "value4 = input(\"input a strng\")\n",
    "value5 = input(\"input a string\")\n",
    "value6 = input(\"input a cahr\")\n",
    "\n",
    "A.append(value1)\n",
    "A.append(value2)\n",
    "A.append(value3)\n",
    "A.append(value4)\n",
    "A.append(value5)\n",
    "A.append(value6)\n",
    "\n",
    "print(A)\n",
    "\n",
    "\n",
    "\n"
   ]
  },
  {
   "cell_type": "code",
   "execution_count": 8,
   "id": "12062ce6-427f-4a12-bde2-7e50e70f21c8",
   "metadata": {},
   "outputs": [
    {
     "name": "stdin",
     "output_type": "stream",
     "text": [
      "Enter an index 2\n"
     ]
    },
    {
     "name": "stdout",
     "output_type": "stream",
     "text": [
      "['a', 'a', 'd', 'b', 'g', 't', 'r']\n"
     ]
    }
   ],
   "source": [
    "location = int(input(\"Enter an index\"))\n",
    "A.insert(location, \"d\")\n",
    "print(A)"
   ]
  },
  {
   "cell_type": "code",
   "execution_count": 9,
   "id": "79b54f91-9f93-4c92-aef9-01b7358d66b3",
   "metadata": {},
   "outputs": [
    {
     "name": "stdin",
     "output_type": "stream",
     "text": [
      "Enter a value to be removed:  g\n"
     ]
    },
    {
     "name": "stdout",
     "output_type": "stream",
     "text": [
      "['a', 'a', 'd', 'b', 't', 'r']\n"
     ]
    }
   ],
   "source": [
    "value = input(\"Enter a value to be removed: \")\n",
    "A.remove(value)\n",
    "print(A)"
   ]
  },
  {
   "cell_type": "code",
   "execution_count": 14,
   "id": "c5f8597e-d0f5-4a84-8f94-284575a6cc7f",
   "metadata": {},
   "outputs": [
    {
     "name": "stdin",
     "output_type": "stream",
     "text": [
      "Enter an index 4\n"
     ]
    },
    {
     "name": "stdout",
     "output_type": "stream",
     "text": [
      "['a', 'a', 'd', 'b', 'b', 't', 'r']\n"
     ]
    }
   ],
   "source": [
    "location = int(input(\"Enter an index\"))\n",
    "A.insert(location, \"b\")\n",
    "print(A)"
   ]
  },
  {
   "cell_type": "code",
   "execution_count": 15,
   "id": "569048d9-9dc6-473e-ac69-a255ce453c61",
   "metadata": {},
   "outputs": [
    {
     "data": {
      "text/plain": [
       "['a', 'a', 'd', 'b', 'b', 't', 'r']"
      ]
     },
     "execution_count": 15,
     "metadata": {},
     "output_type": "execute_result"
    }
   ],
   "source": [
    "A"
   ]
  },
  {
   "cell_type": "code",
   "execution_count": 19,
   "id": "37c288c9-fa6d-4599-9e7a-5224c309bed2",
   "metadata": {},
   "outputs": [
    {
     "data": {
      "text/plain": [
       "6"
      ]
     },
     "execution_count": 19,
     "metadata": {},
     "output_type": "execute_result"
    }
   ],
   "source": [
    "A.index('r')"
   ]
  },
  {
   "cell_type": "code",
   "execution_count": null,
   "id": "d12e34c3-f708-4aa9-a178-c44bd0939d89",
   "metadata": {},
   "outputs": [],
   "source": [
    "# Pop()- To delete a value from a particular index.\n"
   ]
  },
  {
   "cell_type": "code",
   "execution_count": 20,
   "id": "6b8ec935-88a5-48a8-9af1-5bd34d98283a",
   "metadata": {},
   "outputs": [
    {
     "data": {
      "text/plain": [
       "['a', 'a', 'd', 'b', 'b', 't', 'r']"
      ]
     },
     "execution_count": 20,
     "metadata": {},
     "output_type": "execute_result"
    }
   ],
   "source": [
    "A"
   ]
  },
  {
   "cell_type": "code",
   "execution_count": 23,
   "id": "1687686c-5c8e-4a49-9ae6-b44fe8ebb7a8",
   "metadata": {},
   "outputs": [
    {
     "data": {
      "text/plain": [
       "'d'"
      ]
     },
     "execution_count": 23,
     "metadata": {},
     "output_type": "execute_result"
    }
   ],
   "source": [
    "A.pop(2)"
   ]
  },
  {
   "cell_type": "code",
   "execution_count": 24,
   "id": "b5228aef-b515-4483-ae7b-3e6983d45d05",
   "metadata": {},
   "outputs": [
    {
     "data": {
      "text/plain": [
       "['a', 'a', 'b', 'b', 't', 'r']"
      ]
     },
     "execution_count": 24,
     "metadata": {},
     "output_type": "execute_result"
    }
   ],
   "source": [
    "A"
   ]
  },
  {
   "cell_type": "code",
   "execution_count": null,
   "id": "033596ba-8c96-4c80-bfef-640621bcae92",
   "metadata": {},
   "outputs": [],
   "source": [
    " #Indexing in a list \n"
   ]
  },
  {
   "cell_type": "code",
   "execution_count": 27,
   "id": "32f3b396-b48c-469b-944a-71525aee008f",
   "metadata": {},
   "outputs": [
    {
     "data": {
      "text/plain": [
       "['a', 'a', 'b', 'b', 't', 'r']"
      ]
     },
     "execution_count": 27,
     "metadata": {},
     "output_type": "execute_result"
    }
   ],
   "source": [
    "A"
   ]
  },
  {
   "cell_type": "code",
   "execution_count": 29,
   "id": "9809f42f-b112-4b5d-b910-d729aafd1e47",
   "metadata": {},
   "outputs": [
    {
     "data": {
      "text/plain": [
       "2"
      ]
     },
     "execution_count": 29,
     "metadata": {},
     "output_type": "execute_result"
    }
   ],
   "source": [
    "A.index('b')\n",
    "    "
   ]
  },
  {
   "cell_type": "code",
   "execution_count": 31,
   "id": "82aaf049-5ae6-4c53-bb15-f239fbac6cff",
   "metadata": {},
   "outputs": [
    {
     "data": {
      "text/plain": [
       "'b'"
      ]
     },
     "execution_count": 31,
     "metadata": {},
     "output_type": "execute_result"
    }
   ],
   "source": [
    "A[3]"
   ]
  },
  {
   "cell_type": "code",
   "execution_count": 32,
   "id": "9ae9fa07-62cf-4bcc-8421-cb0454dc666a",
   "metadata": {},
   "outputs": [
    {
     "data": {
      "text/plain": [
       "['t']"
      ]
     },
     "execution_count": 32,
     "metadata": {},
     "output_type": "execute_result"
    }
   ],
   "source": [
    "A[4:5]"
   ]
  },
  {
   "cell_type": "code",
   "execution_count": 33,
   "id": "adb26c76-1f30-433f-9e9e-1d61e9c1748e",
   "metadata": {},
   "outputs": [
    {
     "data": {
      "text/plain": [
       "['b', 'b', 't']"
      ]
     },
     "execution_count": 33,
     "metadata": {},
     "output_type": "execute_result"
    }
   ],
   "source": [
    "A[2:5]"
   ]
  },
  {
   "cell_type": "code",
   "execution_count": null,
   "id": "03beea1b-1b36-471e-98d5-3b218668d9ef",
   "metadata": {},
   "outputs": [],
   "source": []
  }
 ],
 "metadata": {
  "kernelspec": {
   "display_name": "Python 3 (ipykernel)",
   "language": "python",
   "name": "python3"
  },
  "language_info": {
   "codemirror_mode": {
    "name": "ipython",
    "version": 3
   },
   "file_extension": ".py",
   "mimetype": "text/x-python",
   "name": "python",
   "nbconvert_exporter": "python",
   "pygments_lexer": "ipython3",
   "version": "3.12.4"
  }
 },
 "nbformat": 4,
 "nbformat_minor": 5
}
