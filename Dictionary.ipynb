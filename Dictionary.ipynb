{
 "cells": [
  {
   "cell_type": "code",
   "execution_count": null,
   "id": "79f353a8-737a-474c-acdd-72f902b80f21",
   "metadata": {},
   "outputs": [],
   "source": [
    "#dictionary"
   ]
  },
  {
   "cell_type": "code",
   "execution_count": null,
   "id": "a24eb274-ef67-4713-bf35-baa7a53ed013",
   "metadata": {},
   "outputs": [],
   "source": []
  },
  {
   "cell_type": "code",
   "execution_count": 11,
   "id": "e74e7ffc-e321-4ac1-ab3f-c907d2af220f",
   "metadata": {},
   "outputs": [],
   "source": [
    "capitals = {\"USA\":\"Washington DC\",\n",
    "            \"China\":\"Beijing\",\n",
    "            \"India\":\"New Deihi\",\n",
    "            \"Rassia\":\"Moscow\"}\n"
   ]
  },
  {
   "cell_type": "code",
   "execution_count": 13,
   "id": "ff7bef49-580a-4582-a7c2-e34f00f12c1b",
   "metadata": {},
   "outputs": [
    {
     "name": "stdout",
     "output_type": "stream",
     "text": [
      "Moscow\n"
     ]
    }
   ],
   "source": [
    "print(capitals.get(\"Rassia\"))"
   ]
  },
  {
   "cell_type": "code",
   "execution_count": 17,
   "id": "da929cc9-cef3-4cd6-9f03-3129449b8e70",
   "metadata": {},
   "outputs": [
    {
     "name": "stdout",
     "output_type": "stream",
     "text": [
      "that capital exists\n"
     ]
    }
   ],
   "source": [
    "if capitals.get(\"Rassia\"):\n",
    "    print(\"that capital exists\")\n",
    "else :\n",
    "    print(\"that capital doesn,t exists\")"
   ]
  },
  {
   "cell_type": "code",
   "execution_count": 18,
   "id": "ab118bed-ed48-4f97-b6a4-479b063498fd",
   "metadata": {},
   "outputs": [
    {
     "name": "stdout",
     "output_type": "stream",
     "text": [
      "None\n"
     ]
    }
   ],
   "source": [
    "print(capitals.get(\"japan\"))"
   ]
  },
  {
   "cell_type": "code",
   "execution_count": 19,
   "id": "13c11adb-ea0c-4f24-8849-3da1153ced37",
   "metadata": {},
   "outputs": [],
   "source": [
    "capitals.update({\"Germany\":\"Berlin\"})"
   ]
  },
  {
   "cell_type": "code",
   "execution_count": 20,
   "id": "75d688b5-a3b9-4a4c-88e6-df439f8bf747",
   "metadata": {},
   "outputs": [
    {
     "name": "stdout",
     "output_type": "stream",
     "text": [
      "{'USA': 'Washington DC', 'China': 'Beijing', 'India': 'New Deihi', 'Rassia': 'Moscow', 'Germany': 'Berlin'}\n"
     ]
    }
   ],
   "source": [
    "print(capitals)"
   ]
  },
  {
   "cell_type": "code",
   "execution_count": 22,
   "id": "d8c35579-2a3c-4f85-9b4e-aa6c03642a37",
   "metadata": {},
   "outputs": [],
   "source": [
    "capitals.update({\"USA\":\"Detroit\"})"
   ]
  },
  {
   "cell_type": "raw",
   "id": "77d1dba4-3773-404b-860b-470cbf8e80ea",
   "metadata": {},
   "source": [
    "print(capitals)"
   ]
  },
  {
   "cell_type": "code",
   "execution_count": null,
   "id": "5b47b42e-ec83-4bcf-b6ae-493a9f49eef0",
   "metadata": {},
   "outputs": [],
   "source": [
    "\n"
   ]
  }
 ],
 "metadata": {
  "kernelspec": {
   "display_name": "Python 3 (ipykernel)",
   "language": "python",
   "name": "python3"
  },
  "language_info": {
   "codemirror_mode": {
    "name": "ipython",
    "version": 3
   },
   "file_extension": ".py",
   "mimetype": "text/x-python",
   "name": "python",
   "nbconvert_exporter": "python",
   "pygments_lexer": "ipython3",
   "version": "3.12.4"
  }
 },
 "nbformat": 4,
 "nbformat_minor": 5
}
