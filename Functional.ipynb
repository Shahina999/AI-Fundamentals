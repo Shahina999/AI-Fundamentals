{
 "cells": [
  {
   "cell_type": "code",
   "execution_count": null,
   "id": "bd293ebf-f2cf-403a-8983-d97b71af3941",
   "metadata": {},
   "outputs": [
    {
     "name": "stdout",
     "output_type": "stream",
     "text": [
      "<class 'list'>\n"
     ]
    }
   ],
   "source": [
    "def even(n):\n",
    "    list=[]\n",
    "    i=0\n",
    "    while i<n:\n",
    "        if i%2==0:\n",
    "            i=i+1\n",
    "print(list)\n",
    "even(10)\n",
    "\n"
   ]
  },
  {
   "cell_type": "code",
   "execution_count": null,
   "id": "53043a11-6565-4621-b612-da15510c9996",
   "metadata": {},
   "outputs": [],
   "source": [
    "def sum():\n",
    "    x=10\n",
    "    y=20\n",
    "    sum=x+y\n",
    "  return sum"
   ]
  },
  {
   "cell_type": "code",
   "execution_count": null,
   "id": "45d8bc33-b448-4755-bf5a-de0886933ff1",
   "metadata": {},
   "outputs": [],
   "source": []
  },
  {
   "cell_type": "code",
   "execution_count": null,
   "id": "f532a946-5bcc-4109-9fd8-1e1747878cde",
   "metadata": {},
   "outputs": [],
   "source": [
    "# FUNCTIONAL PROGRAMING# variable Argument\n",
    "#Positional argument\n"
   ]
  },
  {
   "cell_type": "code",
   "execution_count": 4,
   "id": "10018986-ba18-4a91-9c03-4d637b2271f5",
   "metadata": {},
   "outputs": [
    {
     "data": {
      "text/plain": [
       "37"
      ]
     },
     "execution_count": 4,
     "metadata": {},
     "output_type": "execute_result"
    }
   ],
   "source": [
    "def add_number(*aggr):\n",
    "    sum=0\n",
    "    for number in aggr:\n",
    "        sum+=number\n",
    "\n",
    "    return sum\n",
    "add_number(12,4,5,7,9)"
   ]
  },
  {
   "cell_type": "code",
   "execution_count": 2,
   "id": "7045a086-12e5-4f57-8aa2-0d4cbcfa846f",
   "metadata": {},
   "outputs": [
    {
     "name": "stdin",
     "output_type": "stream",
     "text": [
      "enter any character t\n",
      "enter any character u\n",
      "enter any character i\n",
      "enter any character f\n",
      "enter any character h\n",
      "enter any character y\n",
      "enter any character r\n"
     ]
    },
    {
     "name": "stdout",
     "output_type": "stream",
     "text": [
      "['u', 'i']\n"
     ]
    }
   ],
   "source": [
    "def VOWEL(*args):\n",
    "    vowel=[]\n",
    "    list=['a','e','i','o','u']\n",
    "    for i in args:\n",
    "        for j in list: \n",
    "            if i==j:\n",
    "                vowel.append(i)\n",
    "    print(vowel)\n",
    "    \n",
    "a=input(\"enter any character\") \n",
    "b=input(\"enter any character\")\n",
    "c=input(\"enter any character\")\n",
    "d=input(\"enter any character\")\n",
    "e=input(\"enter any character\")\n",
    "f=input(\"enter any character\")\n",
    "g=input(\"enter any character\")\n",
    "\n",
    "VOWEL(a,b,c,d,e,f,g)\n",
    "\n",
    " \n",
    "\n",
    "\n",
    "        "
   ]
  },
  {
   "cell_type": "code",
   "execution_count": null,
   "id": "22e297c3-705f-44a7-96aa-35e1a06da7eb",
   "metadata": {},
   "outputs": [],
   "source": []
  },
  {
   "cell_type": "code",
   "execution_count": null,
   "id": "611975d3-02e4-49c0-a898-e2ac6e69d6e5",
   "metadata": {},
   "outputs": [],
   "source": []
  }
 ],
 "metadata": {
  "kernelspec": {
   "display_name": "Python 3 (ipykernel)",
   "language": "python",
   "name": "python3"
  },
  "language_info": {
   "codemirror_mode": {
    "name": "ipython",
    "version": 3
   },
   "file_extension": ".py",
   "mimetype": "text/x-python",
   "name": "python",
   "nbconvert_exporter": "python",
   "pygments_lexer": "ipython3",
   "version": "3.12.4"
  }
 },
 "nbformat": 4,
 "nbformat_minor": 5
}
