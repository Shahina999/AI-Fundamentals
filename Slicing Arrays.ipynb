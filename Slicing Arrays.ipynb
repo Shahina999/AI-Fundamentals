{
 "cells": [
  {
   "cell_type": "code",
   "execution_count": 2,
   "id": "79019af3-5d2c-4e1f-bc6a-c050053f25e0",
   "metadata": {},
   "outputs": [],
   "source": [
    "import numpy as np"
   ]
  },
  {
   "cell_type": "code",
   "execution_count": 3,
   "id": "1ed406aa-0826-4f9c-a88d-cd7fa02acae4",
   "metadata": {},
   "outputs": [],
   "source": [
    "gene1 = [100,200,50,400]\n",
    "gene2 = [50,0,0,100]\n",
    "gene3 = [350,100,50,200]\n",
    "expression_data = [gene1,gene2,gene3]"
   ]
  },
  {
   "cell_type": "code",
   "execution_count": 4,
   "id": "c6852695-4608-460a-8267-dee881938753",
   "metadata": {},
   "outputs": [
    {
     "data": {
      "text/plain": [
       "[[100, 200, 50, 400], [50, 0, 0, 100], [350, 100, 50, 200]]"
      ]
     },
     "execution_count": 4,
     "metadata": {},
     "output_type": "execute_result"
    }
   ],
   "source": [
    "expression_data"
   ]
  },
  {
   "cell_type": "code",
   "execution_count": 8,
   "id": "688477dc-36b2-45a9-b517-d23c726bae1c",
   "metadata": {},
   "outputs": [
    {
     "data": {
      "text/plain": [
       "array([[100, 200,  50, 400],\n",
       "       [ 50,   0,   0, 100],\n",
       "       [350, 100,  50, 200]])"
      ]
     },
     "execution_count": 8,
     "metadata": {},
     "output_type": "execute_result"
    }
   ],
   "source": [
    "a = np.array(expression_data)\n",
    "a   \n",
    "    \n",
    "    \n",
    "      "
   ]
  },
  {
   "cell_type": "code",
   "execution_count": null,
   "id": "081ac365-7647-46d4-b1cd-62d102325761",
   "metadata": {},
   "outputs": [],
   "source": [
    "#SLICING\n",
    "#linspace(100,50,5)"
   ]
  },
  {
   "cell_type": "code",
   "execution_count": 10,
   "id": "c190f2c6-bf82-4579-a2e8-a9aeaf4d9e26",
   "metadata": {},
   "outputs": [
    {
     "data": {
      "text/plain": [
       "array([0.        , 0.01010101, 0.02020202, 0.03030303, 0.04040404,\n",
       "       0.05050505, 0.06060606, 0.07070707, 0.08080808, 0.09090909,\n",
       "       0.1010101 , 0.11111111, 0.12121212, 0.13131313, 0.14141414,\n",
       "       0.15151515, 0.16161616, 0.17171717, 0.18181818, 0.19191919,\n",
       "       0.2020202 , 0.21212121, 0.22222222, 0.23232323, 0.24242424,\n",
       "       0.25252525, 0.26262626, 0.27272727, 0.28282828, 0.29292929,\n",
       "       0.3030303 , 0.31313131, 0.32323232, 0.33333333, 0.34343434,\n",
       "       0.35353535, 0.36363636, 0.37373737, 0.38383838, 0.39393939,\n",
       "       0.4040404 , 0.41414141, 0.42424242, 0.43434343, 0.44444444,\n",
       "       0.45454545, 0.46464646, 0.47474747, 0.48484848, 0.49494949,\n",
       "       0.50505051, 0.51515152, 0.52525253, 0.53535354, 0.54545455,\n",
       "       0.55555556, 0.56565657, 0.57575758, 0.58585859, 0.5959596 ,\n",
       "       0.60606061, 0.61616162, 0.62626263, 0.63636364, 0.64646465,\n",
       "       0.65656566, 0.66666667, 0.67676768, 0.68686869, 0.6969697 ,\n",
       "       0.70707071, 0.71717172, 0.72727273, 0.73737374, 0.74747475,\n",
       "       0.75757576, 0.76767677, 0.77777778, 0.78787879, 0.7979798 ,\n",
       "       0.80808081, 0.81818182, 0.82828283, 0.83838384, 0.84848485,\n",
       "       0.85858586, 0.86868687, 0.87878788, 0.88888889, 0.8989899 ,\n",
       "       0.90909091, 0.91919192, 0.92929293, 0.93939394, 0.94949495,\n",
       "       0.95959596, 0.96969697, 0.97979798, 0.98989899, 1.        ])"
      ]
     },
     "execution_count": 10,
     "metadata": {},
     "output_type": "execute_result"
    }
   ],
   "source": [
    "np.linspace(0,1,100)"
   ]
  },
  {
   "cell_type": "code",
   "execution_count": 11,
   "id": "3c3733ed-340e-41ee-be24-63ce784277f8",
   "metadata": {},
   "outputs": [
    {
     "data": {
      "text/plain": [
       "array([93, 71, 35, 49])"
      ]
     },
     "execution_count": 11,
     "metadata": {},
     "output_type": "execute_result"
    }
   ],
   "source": [
    "np.random.randint(10,100,4)"
   ]
  },
  {
   "cell_type": "code",
   "execution_count": 12,
   "id": "e5af3e46-b6b2-4fb5-b349-2eccd15bd79d",
   "metadata": {},
   "outputs": [
    {
     "data": {
      "text/plain": [
       "array([5, 5, 5, 5, 5, 5, 5, 5, 5, 5])"
      ]
     },
     "execution_count": 12,
     "metadata": {},
     "output_type": "execute_result"
    }
   ],
   "source": [
    "np.ones(10,int)*5"
   ]
  },
  {
   "cell_type": "code",
   "execution_count": 13,
   "id": "037de3f5-c198-42fc-9e20-f07b227ea6c8",
   "metadata": {},
   "outputs": [
    {
     "data": {
      "text/plain": [
       "array([10, 14, 16, 15, 11])"
      ]
     },
     "execution_count": 13,
     "metadata": {},
     "output_type": "execute_result"
    }
   ],
   "source": [
    " A = np.array([6,10,12,11,7])\n",
    "H = A + 4\n",
    "H\n",
    "\n"
   ]
  },
  {
   "cell_type": "code",
   "execution_count": null,
   "id": "db635c47-baae-45db-b223-859927cacaef",
   "metadata": {},
   "outputs": [],
   "source": [
    "#DIFFERENT TYPES OF ARRAYS\n",
    "\n"
   ]
  },
  {
   "cell_type": "code",
   "execution_count": 14,
   "id": "8245e43c-d43f-4163-a0de-d547ea36e5d9",
   "metadata": {},
   "outputs": [
    {
     "data": {
      "text/plain": [
       "array([[0., 0., 0., 0., 0.],\n",
       "       [0., 0., 0., 0., 0.],\n",
       "       [0., 0., 0., 0., 0.],\n",
       "       [0., 0., 0., 0., 0.],\n",
       "       [0., 0., 0., 0., 0.]])"
      ]
     },
     "execution_count": 14,
     "metadata": {},
     "output_type": "execute_result"
    }
   ],
   "source": [
    "np.zeros((5,5))"
   ]
  },
  {
   "cell_type": "code",
   "execution_count": 15,
   "id": "7d7f32fc-ac13-4de9-85ae-97d0a4a8caa2",
   "metadata": {},
   "outputs": [
    {
     "data": {
      "text/plain": [
       "array([[1, 0, 2],\n",
       "       [1, 1, 2],\n",
       "       [2, 0, 0]])"
      ]
     },
     "execution_count": 15,
     "metadata": {},
     "output_type": "execute_result"
    }
   ],
   "source": [
    " np.random.randint(3,size=(3,3))"
   ]
  },
  {
   "cell_type": "code",
   "execution_count": 16,
   "id": "59fee0b1-143d-4d04-a154-3cf514bcdb3c",
   "metadata": {},
   "outputs": [
    {
     "data": {
      "text/plain": [
       "array([[1, 0],\n",
       "       [0, 1]])"
      ]
     },
     "execution_count": 16,
     "metadata": {},
     "output_type": "execute_result"
    }
   ],
   "source": [
    "np.identity(2,dtype='int32')"
   ]
  },
  {
   "cell_type": "code",
   "execution_count": null,
   "id": "ea311436-ad6c-43bb-b527-7ab8c7d03ac2",
   "metadata": {},
   "outputs": [],
   "source": [
    "#MATHMATICS,sin,cos,tan,"
   ]
  },
  {
   "cell_type": "code",
   "execution_count": 19,
   "id": "1a1e5177-8d15-473f-a19f-d0d3c61c246f",
   "metadata": {},
   "outputs": [
    {
     "data": {
      "text/plain": [
       "-1.995200412208242"
      ]
     },
     "execution_count": 19,
     "metadata": {},
     "output_type": "execute_result"
    }
   ],
   "source": [
    "np.tan(90)"
   ]
  },
  {
   "cell_type": "code",
   "execution_count": 4,
   "id": "647854cd-54b5-41be-b1ca-ee65b1c1efbc",
   "metadata": {},
   "outputs": [
    {
     "data": {
      "text/plain": [
       "-0.4480736161291701"
      ]
     },
     "execution_count": 4,
     "metadata": {},
     "output_type": "execute_result"
    }
   ],
   "source": [
    "np.cos(90)"
   ]
  },
  {
   "cell_type": "code",
   "execution_count": 5,
   "id": "54f7b7f6-0f12-49c4-9452-ee5d5fd3ee74",
   "metadata": {},
   "outputs": [
    {
     "data": {
      "text/plain": [
       "0.8939966636005579"
      ]
     },
     "execution_count": 5,
     "metadata": {},
     "output_type": "execute_result"
    }
   ],
   "source": [
    "np.sin(90)"
   ]
  },
  {
   "cell_type": "code",
   "execution_count": null,
   "id": "0e9ff439-9901-4c88-9b05-7efe893b49ee",
   "metadata": {},
   "outputs": [],
   "source": []
  }
 ],
 "metadata": {
  "kernelspec": {
   "display_name": "Python 3 (ipykernel)",
   "language": "python",
   "name": "python3"
  },
  "language_info": {
   "codemirror_mode": {
    "name": "ipython",
    "version": 3
   },
   "file_extension": ".py",
   "mimetype": "text/x-python",
   "name": "python",
   "nbconvert_exporter": "python",
   "pygments_lexer": "ipython3",
   "version": "3.12.4"
  }
 },
 "nbformat": 4,
 "nbformat_minor": 5
}
